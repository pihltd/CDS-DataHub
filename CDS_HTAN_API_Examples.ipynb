{
 "cells": [
  {
   "cell_type": "markdown",
   "id": "528bf81b-ef2d-4283-b7ca-9b4094a9a87d",
   "metadata": {},
   "source": [
    "This notebook has examples of how to use the CDS API to do common queries and return results that should be usable, and exportable to a Cloud Resource.\n",
    "A few useful links:\n",
    "- The CDS Data Model: https://dataservice.datacommons.cancer.gov/#/resources\n",
    "- The CDS GraphQL endpoint: https://dataservice.datacommons.cancer.gov/v1/graphql/\n",
    "- The GraphiQL interface in CDS (a good place to build queries): https://dataservice.datacommons.cancer.gov/#/graphql"
   ]
  },
  {
   "cell_type": "markdown",
   "id": "a687c5df-6e8d-4651-9098-5c34cc4f95f9",
   "metadata": {},
   "source": [
    "Import a few useful libraries.  Requests for carrying out the communications and Pandas for manipulating the returns.  We also need json to help with formatting the results."
   ]
  },
  {
   "cell_type": "code",
   "execution_count": 1,
   "id": "4bfb9b5e-2c4b-4103-b8e3-c5a1c090987a",
   "metadata": {},
   "outputs": [],
   "source": [
    "import requests\n",
    "import pandas as pd\n",
    "import json\n",
    "import pprint"
   ]
  },
  {
   "cell_type": "markdown",
   "id": "c997fc56-f27c-4aeb-b33c-857a6d41e6d5",
   "metadata": {},
   "source": [
    "This is a routine that sends the query and returns the results as a Python dictionary."
   ]
  },
  {
   "cell_type": "code",
   "execution_count": 2,
   "id": "8f71049d-318b-4d2e-80a1-79cd7b6809eb",
   "metadata": {},
   "outputs": [],
   "source": [
    "def runGrapQLQuery(url,query):\n",
    "    headers = {\"content-type\":\"application/json\"}\n",
    "    try:\n",
    "        #results = requests.post(url = url, json={\"query\":query, \"headers\":headers}, verify = False)\n",
    "        results = requests.post(url = url, json={\"query\":query, \"headers\":headers})\n",
    "        results = results.json()\n",
    "    except requests.exceptions.HTTPError as exception:\n",
    "        print(exception)\n",
    "    return results"
   ]
  },
  {
   "cell_type": "markdown",
   "id": "d845b157-d40f-4075-952b-100964abaeff",
   "metadata": {},
   "source": [
    "Query 1: Getting HTAN File name, case ID and sample IDs.  "
   ]
  },
  {
   "cell_type": "code",
   "execution_count": 3,
   "id": "7d3bf6c4-2c53-42e3-8ccb-a13db8d74f8c",
   "metadata": {},
   "outputs": [],
   "source": [
    "query = \"\"\"\n",
    "{\n",
    "  study(study_acronym: \"HTAN\"){\n",
    "    files{\n",
    "      file_name\n",
    "      file_id\n",
    "      samples{\n",
    "        sample_id\n",
    "        participant{\n",
    "          participant_id\n",
    "        }\n",
    "      }\n",
    "    }\n",
    "  }\n",
    "}\n",
    "\"\"\""
   ]
  },
  {
   "cell_type": "markdown",
   "id": "cba3fcf3-e459-4ee7-a4d6-62ebda9a635f",
   "metadata": {},
   "source": [
    "For those not familar with GraphQL, here's a brief explanation of the query:  HTAN is considered a study, so definiing the study acronym will limit the returned data to just HTAN information.  The assumption is that a user will be most interested in getting files, so we've requested the file name and file ID, which is also the DRS ID and can be used to retrieve the actual file.  The samples and participants sections are structured this way so that the sample and participant associated with each file are returned as part of the record for each file."
   ]
  },
  {
   "cell_type": "markdown",
   "id": "a65511bf-b0d2-4b80-aff0-e8649e3b271b",
   "metadata": {},
   "source": [
    "The next step will be to run the query, so first let's define the URL the query need to be sent to"
   ]
  },
  {
   "cell_type": "code",
   "execution_count": 4,
   "id": "4f6b94c0-5689-4e5f-ac11-0b9a8bf50b17",
   "metadata": {},
   "outputs": [],
   "source": [
    "cds_api_url = \"https://dataservice.datacommons.cancer.gov/v1/graphql/\"\n",
    "#cds_api_url = \"https://dataservice-dev.datacommons.cancer.gov/v1/graphql/\""
   ]
  },
  {
   "cell_type": "markdown",
   "id": "6f82ac11-ffe1-43c0-a07a-1b8ffaecba39",
   "metadata": {},
   "source": [
    "Now send the query to the runGraphQLQuery method"
   ]
  },
  {
   "cell_type": "code",
   "execution_count": 5,
   "id": "750d5c31-0ef1-4718-addd-922be6deefe0",
   "metadata": {},
   "outputs": [],
   "source": [
    "results = runGrapQLQuery(cds_api_url, query)"
   ]
  },
  {
   "cell_type": "markdown",
   "id": "d6fb7a3a-c97a-4271-9d09-b03845a15e0a",
   "metadata": {},
   "source": [
    "If no errors are returned, we've got our results and can start parsing them.  It's useful to run the query first in the GraphiQL interface in the CDS site, that will display the results, which can make deciding how to parse easier.  Here's an example of how the returned data start\"\n",
    "> {\n",
    ">  \"data\": {\n",
    ">    \"study\": [\n",
    ">      {\n",
    ">        \"files\": [\n",
    ">          {\n",
    ">            \"file_name\": \"6109-AS-21_S1_L005_R1_001.fastq.gz\",\n",
    ">            \"file_id\": \"dg.4DFC/9bfcd7b8-81e4-467b-98c7-0ce3c352c5c6\",\n",
    ">            \"samples\": [\n",
    ">              {\n",
    ">                \"sample_id\": \"HTA11_8920_2000001011_DNA\",\n",
    ">                \"participant\": {\n",
    ">                  \"participant_id\": \"HTA11_8920\"\n",
    ">                }\n",
    ">              }\n",
    ">            ]\n",
    ">          }"
   ]
  },
  {
   "cell_type": "markdown",
   "id": "e6458906-8e50-4f3f-af18-a2461e4ea25c",
   "metadata": {},
   "source": [
    "Before parsing out the information, the first step is setting up a dataframe to hold that information in a useful way"
   ]
  },
  {
   "cell_type": "code",
   "execution_count": 6,
   "id": "a6f18182-4e3e-4a0c-b5ca-426a24354526",
   "metadata": {},
   "outputs": [],
   "source": [
    "df_column_names = [\"file_name\", \"file_id\", \"sample_id\", \"participant_id\"]"
   ]
  },
  {
   "cell_type": "code",
   "execution_count": 7,
   "id": "c02d5ff8-3d73-4588-935d-00c3c888e990",
   "metadata": {},
   "outputs": [],
   "source": [
    "htan_df = pd.DataFrame(columns=df_column_names)"
   ]
  },
  {
   "cell_type": "markdown",
   "id": "63370ee8-5813-412b-8042-34cc71803a6d",
   "metadata": {},
   "source": [
    "The relevant information is the list indicated in the \"files\" section.  Since we've only asked for one study, the following should get that list."
   ]
  },
  {
   "cell_type": "code",
   "execution_count": 8,
   "id": "79bf711a-8f19-446e-92f2-d1c74bf12857",
   "metadata": {},
   "outputs": [],
   "source": [
    "file_list = results['data']['study'][0]['files']"
   ]
  },
  {
   "cell_type": "markdown",
   "id": "f7e04d7e-853d-44e3-b35e-65970eb7c406",
   "metadata": {},
   "source": [
    "Let's see how many files we have as a result"
   ]
  },
  {
   "cell_type": "code",
   "execution_count": 9,
   "id": "753cf5f5-08b4-499f-b2b5-1fe57a54c64f",
   "metadata": {},
   "outputs": [
    {
     "name": "stdout",
     "output_type": "stream",
     "text": [
      "18989\n"
     ]
    }
   ],
   "source": [
    "pprint.pprint(len(file_list))"
   ]
  },
  {
   "cell_type": "markdown",
   "id": "6f87b3c6-70a6-4a9f-8a24-1da1778f6861",
   "metadata": {},
   "source": [
    "As of this writing, that's almost 19,000 files which is a lot to parse.  We'll do it just as an example, but narrowing down the query would be a good thing to do."
   ]
  },
  {
   "cell_type": "markdown",
   "id": "33f3e2e5-e327-4b6c-bb1e-4d068278a8aa",
   "metadata": {},
   "source": [
    "Both the sample ID and the participant ID are in their own structures for each file and those will take a little extra parsing"
   ]
  },
  {
   "cell_type": "code",
   "execution_count": 10,
   "id": "0ff3c2cb-e4e9-4ade-a7b0-37214fc97d16",
   "metadata": {},
   "outputs": [],
   "source": [
    "for file in file_list:\n",
    "    file_name = file['file_name']\n",
    "    file_id = file['file_id']\n",
    "    for sample in file['samples']:\n",
    "        sample_id = sample['sample_id']\n",
    "        participant_id = sample['participant']['participant_id']\n",
    "    htan_df.loc[len(htan_df.index)] = [file_name, file_id, sample_id, participant_id]"
   ]
  },
  {
   "cell_type": "code",
   "execution_count": 11,
   "id": "6f25295d-6841-4c64-b2ee-53bd769b842a",
   "metadata": {},
   "outputs": [
    {
     "data": {
      "text/html": [
       "<div>\n",
       "<style scoped>\n",
       "    .dataframe tbody tr th:only-of-type {\n",
       "        vertical-align: middle;\n",
       "    }\n",
       "\n",
       "    .dataframe tbody tr th {\n",
       "        vertical-align: top;\n",
       "    }\n",
       "\n",
       "    .dataframe thead th {\n",
       "        text-align: right;\n",
       "    }\n",
       "</style>\n",
       "<table border=\"1\" class=\"dataframe\">\n",
       "  <thead>\n",
       "    <tr style=\"text-align: right;\">\n",
       "      <th></th>\n",
       "      <th>file_name</th>\n",
       "      <th>file_id</th>\n",
       "      <th>sample_id</th>\n",
       "      <th>participant_id</th>\n",
       "    </tr>\n",
       "  </thead>\n",
       "  <tbody>\n",
       "    <tr>\n",
       "      <th>0</th>\n",
       "      <td>6109-AS-21_S1_L005_R1_001.fastq.gz</td>\n",
       "      <td>dg.4DFC/9bfcd7b8-81e4-467b-98c7-0ce3c352c5c6</td>\n",
       "      <td>HTA11_8920_2000001011_DNA</td>\n",
       "      <td>HTA11_8920</td>\n",
       "    </tr>\n",
       "    <tr>\n",
       "      <th>1</th>\n",
       "      <td>TGTACCTT-CAGGCATT_S44_L004_R1_001.fastq.gz</td>\n",
       "      <td>dg.4DFC/2c44edca-8403-11ee-89ba-97f1d8e813d2</td>\n",
       "      <td>HTA6_116_1_Tissue Biospecimen Type</td>\n",
       "      <td>HTA6_116</td>\n",
       "    </tr>\n",
       "    <tr>\n",
       "      <th>2</th>\n",
       "      <td>TGTACCTT-CAGGCATT_S44_L004_R2_001.fastq.gz</td>\n",
       "      <td>dg.4DFC/2c436c52-8403-11ee-ac1d-d3d8ca49ce61</td>\n",
       "      <td>HTA6_116_1_Tissue Biospecimen Type</td>\n",
       "      <td>HTA6_116</td>\n",
       "    </tr>\n",
       "    <tr>\n",
       "      <th>3</th>\n",
       "      <td>Other_2263_CD33_scATAC_S5_L002_R1_001.fastq.gz</td>\n",
       "      <td>dg.4DFC/c59c1494-4cb3-11ee-b827-bba8e7f9474d</td>\n",
       "      <td>HTA4_20_1090_Blood Biospecimen Type</td>\n",
       "      <td>HTA4_20</td>\n",
       "    </tr>\n",
       "    <tr>\n",
       "      <th>4</th>\n",
       "      <td>Other_2456_scATAC_S1_L002_R3_001.fastq.gz</td>\n",
       "      <td>dg.4DFC/c59d346e-4cb3-11ee-90e2-7b3083d9b31e</td>\n",
       "      <td>HTA4_25_1093_Bone Marrow Biospecimen Type</td>\n",
       "      <td>HTA4_25</td>\n",
       "    </tr>\n",
       "  </tbody>\n",
       "</table>\n",
       "</div>"
      ],
      "text/plain": [
       "                                        file_name  \\\n",
       "0              6109-AS-21_S1_L005_R1_001.fastq.gz   \n",
       "1      TGTACCTT-CAGGCATT_S44_L004_R1_001.fastq.gz   \n",
       "2      TGTACCTT-CAGGCATT_S44_L004_R2_001.fastq.gz   \n",
       "3  Other_2263_CD33_scATAC_S5_L002_R1_001.fastq.gz   \n",
       "4       Other_2456_scATAC_S1_L002_R3_001.fastq.gz   \n",
       "\n",
       "                                        file_id  \\\n",
       "0  dg.4DFC/9bfcd7b8-81e4-467b-98c7-0ce3c352c5c6   \n",
       "1  dg.4DFC/2c44edca-8403-11ee-89ba-97f1d8e813d2   \n",
       "2  dg.4DFC/2c436c52-8403-11ee-ac1d-d3d8ca49ce61   \n",
       "3  dg.4DFC/c59c1494-4cb3-11ee-b827-bba8e7f9474d   \n",
       "4  dg.4DFC/c59d346e-4cb3-11ee-90e2-7b3083d9b31e   \n",
       "\n",
       "                                   sample_id participant_id  \n",
       "0                  HTA11_8920_2000001011_DNA     HTA11_8920  \n",
       "1         HTA6_116_1_Tissue Biospecimen Type       HTA6_116  \n",
       "2         HTA6_116_1_Tissue Biospecimen Type       HTA6_116  \n",
       "3        HTA4_20_1090_Blood Biospecimen Type        HTA4_20  \n",
       "4  HTA4_25_1093_Bone Marrow Biospecimen Type        HTA4_25  "
      ]
     },
     "execution_count": 11,
     "metadata": {},
     "output_type": "execute_result"
    }
   ],
   "source": [
    "htan_df.head()"
   ]
  },
  {
   "cell_type": "markdown",
   "id": "56e81d3a-253e-4488-87ff-fa4ff45386e1",
   "metadata": {},
   "source": [
    "If instead of all the files, we were only interested in the RNA-Seq ones, the following query would return that (along with some useful additional information)"
   ]
  },
  {
   "cell_type": "code",
   "execution_count": 46,
   "id": "a8514e30-2a44-4475-9fea-4db90391a5a9",
   "metadata": {},
   "outputs": [],
   "source": [
    "query = \"\"\"\n",
    "{\n",
    "  study(study_acronym:\"HTAN\"){\n",
    "    participants{\n",
    "      participant_id\n",
    "      samples{\n",
    "        sample_id\n",
    "        sample_type\n",
    "        files(experimental_strategy_and_data_subtypes:\"WXS; RNA-Seq\"){\n",
    "          file_id\n",
    "          file_name\n",
    "          experimental_strategy_and_data_subtypes\n",
    "          md5sum\n",
    "        }\n",
    "      }\n",
    "    }\n",
    "  }\n",
    "}\n",
    "\"\"\""
   ]
  },
  {
   "cell_type": "code",
   "execution_count": 47,
   "id": "6020a3ff-fae9-4b7d-b727-0d8b6cc41812",
   "metadata": {},
   "outputs": [],
   "source": [
    "rnaseqfiles = runGrapQLQuery(cds_api_url, query)"
   ]
  },
  {
   "cell_type": "markdown",
   "id": "013c71ae-0370-4a44-9bfb-5c171caf18cb",
   "metadata": {},
   "source": [
    "Like before, we'll need to parse the json and put data into a useful form (Running the query in the CDS GraphiQL interface, or any other graphical GraphQL editor will show the structure of the returned data)."
   ]
  },
  {
   "cell_type": "code",
   "execution_count": 48,
   "id": "20a225ab-bb9d-495f-8e79-a0d1271488dc",
   "metadata": {},
   "outputs": [],
   "source": [
    "rna_headers = [\"participant_id\", \"sample_id\", \"sample_type\", \"file_id\", \"file_name\", \"experimental_strategy_and_data_subtypes\", \"md5sum\"]"
   ]
  },
  {
   "cell_type": "code",
   "execution_count": 50,
   "id": "e92e16fb-8ca2-41f8-9ff8-699c0607f7f9",
   "metadata": {},
   "outputs": [],
   "source": [
    "rnadf = pd.DataFrame(columns=rna_headers)"
   ]
  },
  {
   "cell_type": "code",
   "execution_count": 52,
   "id": "9e0ef8f9-4f31-4df2-916c-90b0e6e3b8f1",
   "metadata": {},
   "outputs": [],
   "source": [
    "participant_list = rnaseqfiles['data']['study'][0]['participants']"
   ]
  },
  {
   "cell_type": "code",
   "execution_count": 53,
   "id": "6da06f2c-34e6-47cb-8027-9e29115bc9e9",
   "metadata": {},
   "outputs": [],
   "source": [
    "for participant in participant_list:\n",
    "    participant_id = participant['participant_id']\n",
    "    for sample in participant['samples']:\n",
    "        #pprint.pprint(sample)\n",
    "        sample_id = sample['sample_id']\n",
    "        sample_type = sample['sample_type']\n",
    "        filelist = sample['files']\n",
    "        for file in filelist:\n",
    "            file_id = file['file_id']\n",
    "            name = file['file_name']\n",
    "            type = file['experimental_strategy_and_data_subtypes']\n",
    "            md5sum = file['md5sum']\n",
    "            rnadf.loc[len(rnadf.index)] = [participant_id, sample_id, sample_type, file_id, name, type, md5sum]"
   ]
  },
  {
   "cell_type": "code",
   "execution_count": 54,
   "id": "7d94a534-5247-47d8-bc6c-4a69e1ab4c4e",
   "metadata": {},
   "outputs": [
    {
     "data": {
      "text/html": [
       "<div>\n",
       "<style scoped>\n",
       "    .dataframe tbody tr th:only-of-type {\n",
       "        vertical-align: middle;\n",
       "    }\n",
       "\n",
       "    .dataframe tbody tr th {\n",
       "        vertical-align: top;\n",
       "    }\n",
       "\n",
       "    .dataframe thead th {\n",
       "        text-align: right;\n",
       "    }\n",
       "</style>\n",
       "<table border=\"1\" class=\"dataframe\">\n",
       "  <thead>\n",
       "    <tr style=\"text-align: right;\">\n",
       "      <th></th>\n",
       "      <th>participant_id</th>\n",
       "      <th>sample_id</th>\n",
       "      <th>sample_type</th>\n",
       "      <th>file_id</th>\n",
       "      <th>file_name</th>\n",
       "      <th>experimental_strategy_and_data_subtypes</th>\n",
       "      <th>md5sum</th>\n",
       "    </tr>\n",
       "  </thead>\n",
       "  <tbody>\n",
       "    <tr>\n",
       "      <th>0</th>\n",
       "      <td>HTA4_11</td>\n",
       "      <td>HTA4_11_1021_Blood Biospecimen Type</td>\n",
       "      <td>Blood Biospecimen Type</td>\n",
       "      <td>dg.4DFC/c589eca6-4cb3-11ee-aea0-4f447f37c744</td>\n",
       "      <td>MLL_PAYLNH_scATAC_S2_L001_R2_001.fastq.gz</td>\n",
       "      <td>WXS; RNA-Seq</td>\n",
       "      <td>01d2e00968ed4e8c31eb45dcafd843d4</td>\n",
       "    </tr>\n",
       "    <tr>\n",
       "      <th>1</th>\n",
       "      <td>HTA4_11</td>\n",
       "      <td>HTA4_11_1021_Blood Biospecimen Type</td>\n",
       "      <td>Blood Biospecimen Type</td>\n",
       "      <td>dg.4DFC/c5a47e4a-4cb3-11ee-a6e1-035743e55c45</td>\n",
       "      <td>MLL_PAYLNH_scRNA_S2_L001_R1_001.fastq.gz</td>\n",
       "      <td>WXS; RNA-Seq</td>\n",
       "      <td>388b29b8d1a37ec7d4e6a985ad4d37b8</td>\n",
       "    </tr>\n",
       "    <tr>\n",
       "      <th>2</th>\n",
       "      <td>HTA4_11</td>\n",
       "      <td>HTA4_11_1021_Blood Biospecimen Type</td>\n",
       "      <td>Blood Biospecimen Type</td>\n",
       "      <td>dg.4DFC/c58a1492-4cb3-11ee-a97b-335097ba8daa</td>\n",
       "      <td>MLL_PAYLNH_scATAC_S2_L001_R3_001.fastq.gz</td>\n",
       "      <td>WXS; RNA-Seq</td>\n",
       "      <td>206eb57e5954676151947528f40ae4e4</td>\n",
       "    </tr>\n",
       "    <tr>\n",
       "      <th>3</th>\n",
       "      <td>HTA4_11</td>\n",
       "      <td>HTA4_11_1021_Blood Biospecimen Type</td>\n",
       "      <td>Blood Biospecimen Type</td>\n",
       "      <td>dg.4DFC/c58a58da-4cb3-11ee-8981-bba2159aab70</td>\n",
       "      <td>MLL_PAYLNH_scATAC_S2_L002_R2_001.fastq.gz</td>\n",
       "      <td>WXS; RNA-Seq</td>\n",
       "      <td>cec35fad6fcedc89ae1e0786514de5c3</td>\n",
       "    </tr>\n",
       "    <tr>\n",
       "      <th>4</th>\n",
       "      <td>HTA4_11</td>\n",
       "      <td>HTA4_11_1021_Blood Biospecimen Type</td>\n",
       "      <td>Blood Biospecimen Type</td>\n",
       "      <td>dg.4DFC/c5a4a0a0-4cb3-11ee-bc6f-7304a31a72c9</td>\n",
       "      <td>MLL_PAYLNH_scRNA_S2_L001_R2_001.fastq.gz</td>\n",
       "      <td>WXS; RNA-Seq</td>\n",
       "      <td>e6b573ad4368550d12f1aeaa1eb9a73f</td>\n",
       "    </tr>\n",
       "  </tbody>\n",
       "</table>\n",
       "</div>"
      ],
      "text/plain": [
       "  participant_id                            sample_id             sample_type  \\\n",
       "0        HTA4_11  HTA4_11_1021_Blood Biospecimen Type  Blood Biospecimen Type   \n",
       "1        HTA4_11  HTA4_11_1021_Blood Biospecimen Type  Blood Biospecimen Type   \n",
       "2        HTA4_11  HTA4_11_1021_Blood Biospecimen Type  Blood Biospecimen Type   \n",
       "3        HTA4_11  HTA4_11_1021_Blood Biospecimen Type  Blood Biospecimen Type   \n",
       "4        HTA4_11  HTA4_11_1021_Blood Biospecimen Type  Blood Biospecimen Type   \n",
       "\n",
       "                                        file_id  \\\n",
       "0  dg.4DFC/c589eca6-4cb3-11ee-aea0-4f447f37c744   \n",
       "1  dg.4DFC/c5a47e4a-4cb3-11ee-a6e1-035743e55c45   \n",
       "2  dg.4DFC/c58a1492-4cb3-11ee-a97b-335097ba8daa   \n",
       "3  dg.4DFC/c58a58da-4cb3-11ee-8981-bba2159aab70   \n",
       "4  dg.4DFC/c5a4a0a0-4cb3-11ee-bc6f-7304a31a72c9   \n",
       "\n",
       "                                   file_name  \\\n",
       "0  MLL_PAYLNH_scATAC_S2_L001_R2_001.fastq.gz   \n",
       "1   MLL_PAYLNH_scRNA_S2_L001_R1_001.fastq.gz   \n",
       "2  MLL_PAYLNH_scATAC_S2_L001_R3_001.fastq.gz   \n",
       "3  MLL_PAYLNH_scATAC_S2_L002_R2_001.fastq.gz   \n",
       "4   MLL_PAYLNH_scRNA_S2_L001_R2_001.fastq.gz   \n",
       "\n",
       "  experimental_strategy_and_data_subtypes                            md5sum  \n",
       "0                            WXS; RNA-Seq  01d2e00968ed4e8c31eb45dcafd843d4  \n",
       "1                            WXS; RNA-Seq  388b29b8d1a37ec7d4e6a985ad4d37b8  \n",
       "2                            WXS; RNA-Seq  206eb57e5954676151947528f40ae4e4  \n",
       "3                            WXS; RNA-Seq  cec35fad6fcedc89ae1e0786514de5c3  \n",
       "4                            WXS; RNA-Seq  e6b573ad4368550d12f1aeaa1eb9a73f  "
      ]
     },
     "execution_count": 54,
     "metadata": {},
     "output_type": "execute_result"
    }
   ],
   "source": [
    "rnadf.head()"
   ]
  },
  {
   "cell_type": "markdown",
   "id": "bd4c7c49-e98e-47fe-81c0-864d8e71318e",
   "metadata": {},
   "source": [
    "Lastly, it could be useful to bring this list of files to one of the Cloud Resources, and there's a manifest format for that.  It's a comma separated file (.csv) with the following headers: drs_uri, name, Participant ID, md5sum, User Comment\n",
    "User Comment can be any string you like, the others need to follow the following conventions:\n",
    "\n",
    "- drs_uri:  The is the file id preceded by 'drs://nci-crdc.datacommons.io/'\n",
    "- name: The file_name string\n",
    "- Participant ID: the participant ID string\n",
    "- md5sum: The file md5sum value"
   ]
  },
  {
   "cell_type": "markdown",
   "id": "f9d9f5f5-d0a9-429c-bb68-3791c1b9748b",
   "metadata": {},
   "source": [
    "Since the file_id column doesn't have the drs:// portion, that needs to be added"
   ]
  },
  {
   "cell_type": "code",
   "execution_count": 55,
   "id": "630b1cfd-e158-4e12-ba46-ece00c2411fa",
   "metadata": {},
   "outputs": [],
   "source": [
    "def drsID(id):\n",
    "    return 'drs://nci-crdc.datacommons.io/'+id"
   ]
  },
  {
   "cell_type": "code",
   "execution_count": 56,
   "id": "267868b9-ff24-4e13-8502-d3cf2c1cad77",
   "metadata": {},
   "outputs": [],
   "source": [
    "drs_column = rnadf['file_id']\n",
    "new_drs = drs_column.apply(drsID)\n",
    "rnadf['file_id'] = new_drs"
   ]
  },
  {
   "cell_type": "code",
   "execution_count": 57,
   "id": "5dbdc16f-ace3-470c-9343-e7a2e8e4e0ba",
   "metadata": {},
   "outputs": [
    {
     "data": {
      "text/html": [
       "<div>\n",
       "<style scoped>\n",
       "    .dataframe tbody tr th:only-of-type {\n",
       "        vertical-align: middle;\n",
       "    }\n",
       "\n",
       "    .dataframe tbody tr th {\n",
       "        vertical-align: top;\n",
       "    }\n",
       "\n",
       "    .dataframe thead th {\n",
       "        text-align: right;\n",
       "    }\n",
       "</style>\n",
       "<table border=\"1\" class=\"dataframe\">\n",
       "  <thead>\n",
       "    <tr style=\"text-align: right;\">\n",
       "      <th></th>\n",
       "      <th>participant_id</th>\n",
       "      <th>sample_id</th>\n",
       "      <th>sample_type</th>\n",
       "      <th>file_id</th>\n",
       "      <th>file_name</th>\n",
       "      <th>experimental_strategy_and_data_subtypes</th>\n",
       "      <th>md5sum</th>\n",
       "    </tr>\n",
       "  </thead>\n",
       "  <tbody>\n",
       "    <tr>\n",
       "      <th>0</th>\n",
       "      <td>HTA4_11</td>\n",
       "      <td>HTA4_11_1021_Blood Biospecimen Type</td>\n",
       "      <td>Blood Biospecimen Type</td>\n",
       "      <td>drs://nci-crdc.datacommons.io/dg.4DFC/c589eca6...</td>\n",
       "      <td>MLL_PAYLNH_scATAC_S2_L001_R2_001.fastq.gz</td>\n",
       "      <td>WXS; RNA-Seq</td>\n",
       "      <td>01d2e00968ed4e8c31eb45dcafd843d4</td>\n",
       "    </tr>\n",
       "    <tr>\n",
       "      <th>1</th>\n",
       "      <td>HTA4_11</td>\n",
       "      <td>HTA4_11_1021_Blood Biospecimen Type</td>\n",
       "      <td>Blood Biospecimen Type</td>\n",
       "      <td>drs://nci-crdc.datacommons.io/dg.4DFC/c5a47e4a...</td>\n",
       "      <td>MLL_PAYLNH_scRNA_S2_L001_R1_001.fastq.gz</td>\n",
       "      <td>WXS; RNA-Seq</td>\n",
       "      <td>388b29b8d1a37ec7d4e6a985ad4d37b8</td>\n",
       "    </tr>\n",
       "    <tr>\n",
       "      <th>2</th>\n",
       "      <td>HTA4_11</td>\n",
       "      <td>HTA4_11_1021_Blood Biospecimen Type</td>\n",
       "      <td>Blood Biospecimen Type</td>\n",
       "      <td>drs://nci-crdc.datacommons.io/dg.4DFC/c58a1492...</td>\n",
       "      <td>MLL_PAYLNH_scATAC_S2_L001_R3_001.fastq.gz</td>\n",
       "      <td>WXS; RNA-Seq</td>\n",
       "      <td>206eb57e5954676151947528f40ae4e4</td>\n",
       "    </tr>\n",
       "    <tr>\n",
       "      <th>3</th>\n",
       "      <td>HTA4_11</td>\n",
       "      <td>HTA4_11_1021_Blood Biospecimen Type</td>\n",
       "      <td>Blood Biospecimen Type</td>\n",
       "      <td>drs://nci-crdc.datacommons.io/dg.4DFC/c58a58da...</td>\n",
       "      <td>MLL_PAYLNH_scATAC_S2_L002_R2_001.fastq.gz</td>\n",
       "      <td>WXS; RNA-Seq</td>\n",
       "      <td>cec35fad6fcedc89ae1e0786514de5c3</td>\n",
       "    </tr>\n",
       "    <tr>\n",
       "      <th>4</th>\n",
       "      <td>HTA4_11</td>\n",
       "      <td>HTA4_11_1021_Blood Biospecimen Type</td>\n",
       "      <td>Blood Biospecimen Type</td>\n",
       "      <td>drs://nci-crdc.datacommons.io/dg.4DFC/c5a4a0a0...</td>\n",
       "      <td>MLL_PAYLNH_scRNA_S2_L001_R2_001.fastq.gz</td>\n",
       "      <td>WXS; RNA-Seq</td>\n",
       "      <td>e6b573ad4368550d12f1aeaa1eb9a73f</td>\n",
       "    </tr>\n",
       "  </tbody>\n",
       "</table>\n",
       "</div>"
      ],
      "text/plain": [
       "  participant_id                            sample_id             sample_type  \\\n",
       "0        HTA4_11  HTA4_11_1021_Blood Biospecimen Type  Blood Biospecimen Type   \n",
       "1        HTA4_11  HTA4_11_1021_Blood Biospecimen Type  Blood Biospecimen Type   \n",
       "2        HTA4_11  HTA4_11_1021_Blood Biospecimen Type  Blood Biospecimen Type   \n",
       "3        HTA4_11  HTA4_11_1021_Blood Biospecimen Type  Blood Biospecimen Type   \n",
       "4        HTA4_11  HTA4_11_1021_Blood Biospecimen Type  Blood Biospecimen Type   \n",
       "\n",
       "                                             file_id  \\\n",
       "0  drs://nci-crdc.datacommons.io/dg.4DFC/c589eca6...   \n",
       "1  drs://nci-crdc.datacommons.io/dg.4DFC/c5a47e4a...   \n",
       "2  drs://nci-crdc.datacommons.io/dg.4DFC/c58a1492...   \n",
       "3  drs://nci-crdc.datacommons.io/dg.4DFC/c58a58da...   \n",
       "4  drs://nci-crdc.datacommons.io/dg.4DFC/c5a4a0a0...   \n",
       "\n",
       "                                   file_name  \\\n",
       "0  MLL_PAYLNH_scATAC_S2_L001_R2_001.fastq.gz   \n",
       "1   MLL_PAYLNH_scRNA_S2_L001_R1_001.fastq.gz   \n",
       "2  MLL_PAYLNH_scATAC_S2_L001_R3_001.fastq.gz   \n",
       "3  MLL_PAYLNH_scATAC_S2_L002_R2_001.fastq.gz   \n",
       "4   MLL_PAYLNH_scRNA_S2_L001_R2_001.fastq.gz   \n",
       "\n",
       "  experimental_strategy_and_data_subtypes                            md5sum  \n",
       "0                            WXS; RNA-Seq  01d2e00968ed4e8c31eb45dcafd843d4  \n",
       "1                            WXS; RNA-Seq  388b29b8d1a37ec7d4e6a985ad4d37b8  \n",
       "2                            WXS; RNA-Seq  206eb57e5954676151947528f40ae4e4  \n",
       "3                            WXS; RNA-Seq  cec35fad6fcedc89ae1e0786514de5c3  \n",
       "4                            WXS; RNA-Seq  e6b573ad4368550d12f1aeaa1eb9a73f  "
      ]
     },
     "execution_count": 57,
     "metadata": {},
     "output_type": "execute_result"
    }
   ],
   "source": [
    "rnadf.head()"
   ]
  },
  {
   "cell_type": "markdown",
   "id": "d331a259-dfff-4bfa-8742-faaf4b5ab7cb",
   "metadata": {},
   "source": [
    "Now rename a few of the columns as the column names for the manifest file are fixed"
   ]
  },
  {
   "cell_type": "code",
   "execution_count": 58,
   "id": "9341a103-d58e-4ff9-bbd9-4e87a03e126b",
   "metadata": {},
   "outputs": [],
   "source": [
    "renamed = {\"participant_id\":\"Participant ID\", \"file_name\":\"name\", \"file_id\":\"drs_uri\"}"
   ]
  },
  {
   "cell_type": "code",
   "execution_count": 59,
   "id": "2a005d2e-5149-4cb0-9bfd-92e3a0acfbb6",
   "metadata": {},
   "outputs": [],
   "source": [
    "rnadf.rename(columns = renamed, inplace = True)"
   ]
  },
  {
   "cell_type": "code",
   "execution_count": 60,
   "id": "efa75a48-89a0-4aa1-995e-712f0e9061fb",
   "metadata": {},
   "outputs": [
    {
     "data": {
      "text/html": [
       "<div>\n",
       "<style scoped>\n",
       "    .dataframe tbody tr th:only-of-type {\n",
       "        vertical-align: middle;\n",
       "    }\n",
       "\n",
       "    .dataframe tbody tr th {\n",
       "        vertical-align: top;\n",
       "    }\n",
       "\n",
       "    .dataframe thead th {\n",
       "        text-align: right;\n",
       "    }\n",
       "</style>\n",
       "<table border=\"1\" class=\"dataframe\">\n",
       "  <thead>\n",
       "    <tr style=\"text-align: right;\">\n",
       "      <th></th>\n",
       "      <th>Participant ID</th>\n",
       "      <th>sample_id</th>\n",
       "      <th>sample_type</th>\n",
       "      <th>drs_uri</th>\n",
       "      <th>name</th>\n",
       "      <th>experimental_strategy_and_data_subtypes</th>\n",
       "      <th>md5sum</th>\n",
       "    </tr>\n",
       "  </thead>\n",
       "  <tbody>\n",
       "    <tr>\n",
       "      <th>0</th>\n",
       "      <td>HTA4_11</td>\n",
       "      <td>HTA4_11_1021_Blood Biospecimen Type</td>\n",
       "      <td>Blood Biospecimen Type</td>\n",
       "      <td>drs://nci-crdc.datacommons.io/dg.4DFC/c589eca6...</td>\n",
       "      <td>MLL_PAYLNH_scATAC_S2_L001_R2_001.fastq.gz</td>\n",
       "      <td>WXS; RNA-Seq</td>\n",
       "      <td>01d2e00968ed4e8c31eb45dcafd843d4</td>\n",
       "    </tr>\n",
       "    <tr>\n",
       "      <th>1</th>\n",
       "      <td>HTA4_11</td>\n",
       "      <td>HTA4_11_1021_Blood Biospecimen Type</td>\n",
       "      <td>Blood Biospecimen Type</td>\n",
       "      <td>drs://nci-crdc.datacommons.io/dg.4DFC/c5a47e4a...</td>\n",
       "      <td>MLL_PAYLNH_scRNA_S2_L001_R1_001.fastq.gz</td>\n",
       "      <td>WXS; RNA-Seq</td>\n",
       "      <td>388b29b8d1a37ec7d4e6a985ad4d37b8</td>\n",
       "    </tr>\n",
       "    <tr>\n",
       "      <th>2</th>\n",
       "      <td>HTA4_11</td>\n",
       "      <td>HTA4_11_1021_Blood Biospecimen Type</td>\n",
       "      <td>Blood Biospecimen Type</td>\n",
       "      <td>drs://nci-crdc.datacommons.io/dg.4DFC/c58a1492...</td>\n",
       "      <td>MLL_PAYLNH_scATAC_S2_L001_R3_001.fastq.gz</td>\n",
       "      <td>WXS; RNA-Seq</td>\n",
       "      <td>206eb57e5954676151947528f40ae4e4</td>\n",
       "    </tr>\n",
       "    <tr>\n",
       "      <th>3</th>\n",
       "      <td>HTA4_11</td>\n",
       "      <td>HTA4_11_1021_Blood Biospecimen Type</td>\n",
       "      <td>Blood Biospecimen Type</td>\n",
       "      <td>drs://nci-crdc.datacommons.io/dg.4DFC/c58a58da...</td>\n",
       "      <td>MLL_PAYLNH_scATAC_S2_L002_R2_001.fastq.gz</td>\n",
       "      <td>WXS; RNA-Seq</td>\n",
       "      <td>cec35fad6fcedc89ae1e0786514de5c3</td>\n",
       "    </tr>\n",
       "    <tr>\n",
       "      <th>4</th>\n",
       "      <td>HTA4_11</td>\n",
       "      <td>HTA4_11_1021_Blood Biospecimen Type</td>\n",
       "      <td>Blood Biospecimen Type</td>\n",
       "      <td>drs://nci-crdc.datacommons.io/dg.4DFC/c5a4a0a0...</td>\n",
       "      <td>MLL_PAYLNH_scRNA_S2_L001_R2_001.fastq.gz</td>\n",
       "      <td>WXS; RNA-Seq</td>\n",
       "      <td>e6b573ad4368550d12f1aeaa1eb9a73f</td>\n",
       "    </tr>\n",
       "  </tbody>\n",
       "</table>\n",
       "</div>"
      ],
      "text/plain": [
       "  Participant ID                            sample_id             sample_type  \\\n",
       "0        HTA4_11  HTA4_11_1021_Blood Biospecimen Type  Blood Biospecimen Type   \n",
       "1        HTA4_11  HTA4_11_1021_Blood Biospecimen Type  Blood Biospecimen Type   \n",
       "2        HTA4_11  HTA4_11_1021_Blood Biospecimen Type  Blood Biospecimen Type   \n",
       "3        HTA4_11  HTA4_11_1021_Blood Biospecimen Type  Blood Biospecimen Type   \n",
       "4        HTA4_11  HTA4_11_1021_Blood Biospecimen Type  Blood Biospecimen Type   \n",
       "\n",
       "                                             drs_uri  \\\n",
       "0  drs://nci-crdc.datacommons.io/dg.4DFC/c589eca6...   \n",
       "1  drs://nci-crdc.datacommons.io/dg.4DFC/c5a47e4a...   \n",
       "2  drs://nci-crdc.datacommons.io/dg.4DFC/c58a1492...   \n",
       "3  drs://nci-crdc.datacommons.io/dg.4DFC/c58a58da...   \n",
       "4  drs://nci-crdc.datacommons.io/dg.4DFC/c5a4a0a0...   \n",
       "\n",
       "                                        name  \\\n",
       "0  MLL_PAYLNH_scATAC_S2_L001_R2_001.fastq.gz   \n",
       "1   MLL_PAYLNH_scRNA_S2_L001_R1_001.fastq.gz   \n",
       "2  MLL_PAYLNH_scATAC_S2_L001_R3_001.fastq.gz   \n",
       "3  MLL_PAYLNH_scATAC_S2_L002_R2_001.fastq.gz   \n",
       "4   MLL_PAYLNH_scRNA_S2_L001_R2_001.fastq.gz   \n",
       "\n",
       "  experimental_strategy_and_data_subtypes                            md5sum  \n",
       "0                            WXS; RNA-Seq  01d2e00968ed4e8c31eb45dcafd843d4  \n",
       "1                            WXS; RNA-Seq  388b29b8d1a37ec7d4e6a985ad4d37b8  \n",
       "2                            WXS; RNA-Seq  206eb57e5954676151947528f40ae4e4  \n",
       "3                            WXS; RNA-Seq  cec35fad6fcedc89ae1e0786514de5c3  \n",
       "4                            WXS; RNA-Seq  e6b573ad4368550d12f1aeaa1eb9a73f  "
      ]
     },
     "execution_count": 60,
     "metadata": {},
     "output_type": "execute_result"
    }
   ],
   "source": [
    "rnadf.head()"
   ]
  },
  {
   "cell_type": "code",
   "execution_count": 61,
   "id": "384061ce-dd42-47f6-a7ca-d08100509aa6",
   "metadata": {},
   "outputs": [],
   "source": [
    "csv_filename = \"ExampleManifest.csv\"\n",
    "output_columns = [\"drs_uri\",\"name\",\"Participant ID\",\"md5sum\"]\n",
    "rnadf.to_csv(csv_filename, columns=output_columns, sep=',', index=False)"
   ]
  },
  {
   "cell_type": "code",
   "execution_count": null,
   "id": "9f13c5f4-df87-480b-b9bc-42e818953317",
   "metadata": {},
   "outputs": [],
   "source": []
  }
 ],
 "metadata": {
  "kernelspec": {
   "display_name": "Python 3 (ipykernel)",
   "language": "python",
   "name": "python3"
  },
  "language_info": {
   "codemirror_mode": {
    "name": "ipython",
    "version": 3
   },
   "file_extension": ".py",
   "mimetype": "text/x-python",
   "name": "python",
   "nbconvert_exporter": "python",
   "pygments_lexer": "ipython3",
   "version": "3.10.12"
  }
 },
 "nbformat": 4,
 "nbformat_minor": 5
}
