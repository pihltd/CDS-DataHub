{
 "cells": [
  {
   "cell_type": "code",
   "execution_count": 11,
   "id": "13e3a432-3e38-4899-945a-4eb5d698eb73",
   "metadata": {},
   "outputs": [],
   "source": [
    "import requests\n",
    "import pandas as pd\n",
    "import json\n",
    "import argparse\n",
    "import pprint"
   ]
  },
  {
   "cell_type": "code",
   "execution_count": 12,
   "id": "467cea23-54b6-4566-9d2e-e6f154a0430b",
   "metadata": {},
   "outputs": [],
   "source": [
    "def runGrapoQLQuery(url,query):\n",
    "    headers = {\"content-type\":\"application/json\"}\n",
    "    #try:\n",
    "    results = requests.post(url = url, json={\"query\":query, \"headers\":headers})\n",
    "    results = results.json()\n",
    "    return results\n"
   ]
  },
  {
   "cell_type": "code",
   "execution_count": 27,
   "id": "cc60bc06-21f4-4e6f-83c8-ad3a98123740",
   "metadata": {},
   "outputs": [],
   "source": [
    "def getSampleID(jsonthing):\n",
    "    samplelist = jsonthing['samples']\n",
    "    for participant in samplelist:\n",
    "        sampleid = participant['participant']['participant_id']\n",
    "    return sampleid"
   ]
  },
  {
   "cell_type": "code",
   "execution_count": 28,
   "id": "0243a869-12fe-414c-a2c4-c792a1062275",
   "metadata": {},
   "outputs": [],
   "source": [
    "examplequery = \"\"\"\n",
    "    {\n",
    "    study(phs_accession:\"phs002371\"){\n",
    "        files(experimental_strategy_and_data_subtypes:\"WXS\"){\n",
    "        file_name\n",
    "        file_id\n",
    "        md5sum\n",
    "        samples{\n",
    "            participant{\n",
    "            participant_id\n",
    "            }\n",
    "        }\n",
    "        }\n",
    "    }\n",
    "    }\n",
    "    \"\"\""
   ]
  },
  {
   "cell_type": "code",
   "execution_count": 29,
   "id": "c170b1b9-9d17-4183-9306-efc8a37cda6e",
   "metadata": {},
   "outputs": [],
   "source": [
    "CDSGraphQLUrl=\"https://dataservice.datacommons.cancer.gov/v1/graphql/\"\n",
    "drsurl = 'drs://nci-crdc.datacommons.io/'"
   ]
  },
  {
   "cell_type": "code",
   "execution_count": 30,
   "id": "a1e742c3-010c-446a-b1e8-3b5102264377",
   "metadata": {},
   "outputs": [],
   "source": [
    "jsonres = runGrapoQLQuery(CDSGraphQLUrl, examplequery)"
   ]
  },
  {
   "cell_type": "code",
   "execution_count": 31,
   "id": "2c419e67-031f-447e-b3ea-abd3ebfda111",
   "metadata": {},
   "outputs": [],
   "source": [
    "filelist = jsonres['data']['study'][0]['files']"
   ]
  },
  {
   "cell_type": "code",
   "execution_count": 24,
   "id": "940880a4-7db5-403e-b9e0-bd9e2b84f1a9",
   "metadata": {},
   "outputs": [],
   "source": [
    "headers = ['drs_uri', 'name', 'Participant ID', 'Md5sum', 'User Comment']\n",
    "finaldf = pd.DataFrame(columns = headers)"
   ]
  },
  {
   "cell_type": "code",
   "execution_count": 34,
   "id": "c9111a80-7ab6-44d2-b056-6e5b064f5ccc",
   "metadata": {},
   "outputs": [],
   "source": [
    "for file in filelist:\n",
    "    participantid = getSampleID(file)\n",
    "    finaldf.loc[len(finaldf.index)] = [drsurl+file['file_id'], file['file_name'], participantid, file['md5sum'],'']"
   ]
  },
  {
   "cell_type": "code",
   "execution_count": 35,
   "id": "56fd225b-d814-46e3-8d28-51a89474e5c4",
   "metadata": {},
   "outputs": [
    {
     "data": {
      "text/html": [
       "<div>\n",
       "<style scoped>\n",
       "    .dataframe tbody tr th:only-of-type {\n",
       "        vertical-align: middle;\n",
       "    }\n",
       "\n",
       "    .dataframe tbody tr th {\n",
       "        vertical-align: top;\n",
       "    }\n",
       "\n",
       "    .dataframe thead th {\n",
       "        text-align: right;\n",
       "    }\n",
       "</style>\n",
       "<table border=\"1\" class=\"dataframe\">\n",
       "  <thead>\n",
       "    <tr style=\"text-align: right;\">\n",
       "      <th></th>\n",
       "      <th>drs_uri</th>\n",
       "      <th>name</th>\n",
       "      <th>Participant ID</th>\n",
       "      <th>Md5sum</th>\n",
       "      <th>User Comment</th>\n",
       "    </tr>\n",
       "  </thead>\n",
       "  <tbody>\n",
       "    <tr>\n",
       "      <th>0</th>\n",
       "      <td>drs://nci-crdc.datacommons.io/dg.4DFC/9bfcd7b8...</td>\n",
       "      <td>6109-AS-21_S1_L005_R1_001.fastq.gz</td>\n",
       "      <td>HTA11_8920</td>\n",
       "      <td>dd83263a94c58708984c1e849742c3bd</td>\n",
       "      <td></td>\n",
       "    </tr>\n",
       "    <tr>\n",
       "      <th>1</th>\n",
       "      <td>drs://nci-crdc.datacommons.io/dg.4DFC/37d757db...</td>\n",
       "      <td>0000351169.bam</td>\n",
       "      <td>HTA9_1</td>\n",
       "      <td>09108b26db110c4ffb174ce48f4836a4</td>\n",
       "      <td></td>\n",
       "    </tr>\n",
       "    <tr>\n",
       "      <th>2</th>\n",
       "      <td>drs://nci-crdc.datacommons.io/dg.4DFC/7d484881...</td>\n",
       "      <td>0000267407.research.bam</td>\n",
       "      <td>HTA9_1</td>\n",
       "      <td>26c258a8220a4051c82e7d64c7013526</td>\n",
       "      <td></td>\n",
       "    </tr>\n",
       "    <tr>\n",
       "      <th>3</th>\n",
       "      <td>drs://nci-crdc.datacommons.io/dg.4DFC/c8df94f3...</td>\n",
       "      <td>MAP.08622_polyp_2.rmdup.indel.recal.bam</td>\n",
       "      <td>HTA11_8622</td>\n",
       "      <td>7848d2003a8163cd5fe6bf9da80aebac</td>\n",
       "      <td></td>\n",
       "    </tr>\n",
       "    <tr>\n",
       "      <th>4</th>\n",
       "      <td>drs://nci-crdc.datacommons.io/dg.4DFC/4c71a9e2...</td>\n",
       "      <td>0000269959.targeted.bam</td>\n",
       "      <td>HTA9_1</td>\n",
       "      <td>4ba73c3e73503481d62b811973c41898</td>\n",
       "      <td></td>\n",
       "    </tr>\n",
       "    <tr>\n",
       "      <th>...</th>\n",
       "      <td>...</td>\n",
       "      <td>...</td>\n",
       "      <td>...</td>\n",
       "      <td>...</td>\n",
       "      <td>...</td>\n",
       "    </tr>\n",
       "    <tr>\n",
       "      <th>348</th>\n",
       "      <td>drs://nci-crdc.datacommons.io/dg.4DFC/aebaffb0...</td>\n",
       "      <td>5234-AS-37-TGTAGACGAA-AAGTATGCGT_S01_L005_R1_0...</td>\n",
       "      <td>HTA11_6134</td>\n",
       "      <td>18e4126ea909fba1ffb04ab80006e0c8</td>\n",
       "      <td></td>\n",
       "    </tr>\n",
       "    <tr>\n",
       "      <th>349</th>\n",
       "      <td>drs://nci-crdc.datacommons.io/dg.4DFC/f8db2d7c...</td>\n",
       "      <td>5813-AS-16_S1_L005_R1_001.fastq.gz</td>\n",
       "      <td>HTA11_99999955474</td>\n",
       "      <td>4ab41969f76d00565d56002057c3dbe8</td>\n",
       "      <td></td>\n",
       "    </tr>\n",
       "    <tr>\n",
       "      <th>350</th>\n",
       "      <td>drs://nci-crdc.datacommons.io/dg.4DFC/69f8d855...</td>\n",
       "      <td>5234-AS-68-CTCACCAGAA-GAACCTGACC_S01_L005_R1_0...</td>\n",
       "      <td>HTA11_866</td>\n",
       "      <td>19dd1b398783f9ce4fc7e2b8d6d3570c</td>\n",
       "      <td></td>\n",
       "    </tr>\n",
       "    <tr>\n",
       "      <th>351</th>\n",
       "      <td>drs://nci-crdc.datacommons.io/dg.4DFC/db336d80...</td>\n",
       "      <td>5813-AS-12R_S1_L005_R1_001.fastq.gz</td>\n",
       "      <td>HTA11_99999959460</td>\n",
       "      <td>a49a89e5b318e66ca50ff86595929262</td>\n",
       "      <td></td>\n",
       "    </tr>\n",
       "    <tr>\n",
       "      <th>352</th>\n",
       "      <td>drs://nci-crdc.datacommons.io/dg.4DFC/289996e0...</td>\n",
       "      <td>6109-AS-35_S1_L005_R1_001.fastq.gz</td>\n",
       "      <td>HTA11_10167</td>\n",
       "      <td>64ef3ba0fb1acf099b6b4940936d10d1</td>\n",
       "      <td></td>\n",
       "    </tr>\n",
       "  </tbody>\n",
       "</table>\n",
       "<p>353 rows × 5 columns</p>\n",
       "</div>"
      ],
      "text/plain": [
       "                                               drs_uri  \\\n",
       "0    drs://nci-crdc.datacommons.io/dg.4DFC/9bfcd7b8...   \n",
       "1    drs://nci-crdc.datacommons.io/dg.4DFC/37d757db...   \n",
       "2    drs://nci-crdc.datacommons.io/dg.4DFC/7d484881...   \n",
       "3    drs://nci-crdc.datacommons.io/dg.4DFC/c8df94f3...   \n",
       "4    drs://nci-crdc.datacommons.io/dg.4DFC/4c71a9e2...   \n",
       "..                                                 ...   \n",
       "348  drs://nci-crdc.datacommons.io/dg.4DFC/aebaffb0...   \n",
       "349  drs://nci-crdc.datacommons.io/dg.4DFC/f8db2d7c...   \n",
       "350  drs://nci-crdc.datacommons.io/dg.4DFC/69f8d855...   \n",
       "351  drs://nci-crdc.datacommons.io/dg.4DFC/db336d80...   \n",
       "352  drs://nci-crdc.datacommons.io/dg.4DFC/289996e0...   \n",
       "\n",
       "                                                  name     Participant ID  \\\n",
       "0                   6109-AS-21_S1_L005_R1_001.fastq.gz         HTA11_8920   \n",
       "1                                       0000351169.bam             HTA9_1   \n",
       "2                              0000267407.research.bam             HTA9_1   \n",
       "3              MAP.08622_polyp_2.rmdup.indel.recal.bam         HTA11_8622   \n",
       "4                              0000269959.targeted.bam             HTA9_1   \n",
       "..                                                 ...                ...   \n",
       "348  5234-AS-37-TGTAGACGAA-AAGTATGCGT_S01_L005_R1_0...         HTA11_6134   \n",
       "349                 5813-AS-16_S1_L005_R1_001.fastq.gz  HTA11_99999955474   \n",
       "350  5234-AS-68-CTCACCAGAA-GAACCTGACC_S01_L005_R1_0...          HTA11_866   \n",
       "351                5813-AS-12R_S1_L005_R1_001.fastq.gz  HTA11_99999959460   \n",
       "352                 6109-AS-35_S1_L005_R1_001.fastq.gz        HTA11_10167   \n",
       "\n",
       "                               Md5sum User Comment  \n",
       "0    dd83263a94c58708984c1e849742c3bd               \n",
       "1    09108b26db110c4ffb174ce48f4836a4               \n",
       "2    26c258a8220a4051c82e7d64c7013526               \n",
       "3    7848d2003a8163cd5fe6bf9da80aebac               \n",
       "4    4ba73c3e73503481d62b811973c41898               \n",
       "..                                ...          ...  \n",
       "348  18e4126ea909fba1ffb04ab80006e0c8               \n",
       "349  4ab41969f76d00565d56002057c3dbe8               \n",
       "350  19dd1b398783f9ce4fc7e2b8d6d3570c               \n",
       "351  a49a89e5b318e66ca50ff86595929262               \n",
       "352  64ef3ba0fb1acf099b6b4940936d10d1               \n",
       "\n",
       "[353 rows x 5 columns]"
      ]
     },
     "metadata": {},
     "output_type": "display_data"
    }
   ],
   "source": [
    "display(finaldf)"
   ]
  },
  {
   "cell_type": "code",
   "execution_count": 37,
   "id": "c040f089-2076-40f7-a54b-7c75ab7e15ef",
   "metadata": {},
   "outputs": [],
   "source": [
    "filename = 'CDS_manifest.csv'\n",
    "finaldf.to_csv(filename, sep=',', index=False)"
   ]
  },
  {
   "cell_type": "code",
   "execution_count": null,
   "id": "89dfa88a-c638-4b6e-b7a7-f379284807f6",
   "metadata": {},
   "outputs": [],
   "source": []
  }
 ],
 "metadata": {
  "kernelspec": {
   "display_name": "Python 3 (ipykernel)",
   "language": "python",
   "name": "python3"
  },
  "language_info": {
   "codemirror_mode": {
    "name": "ipython",
    "version": 3
   },
   "file_extension": ".py",
   "mimetype": "text/x-python",
   "name": "python",
   "nbconvert_exporter": "python",
   "pygments_lexer": "ipython3",
   "version": "3.10.12"
  }
 },
 "nbformat": 4,
 "nbformat_minor": 5
}
